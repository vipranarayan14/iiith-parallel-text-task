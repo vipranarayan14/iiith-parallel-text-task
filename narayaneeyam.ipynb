{
 "cells": [
  {
   "cell_type": "code",
   "execution_count": 1,
   "id": "e7617e91",
   "metadata": {},
   "outputs": [
    {
     "name": "stdout",
     "output_type": "stream",
     "text": [
      "Requirement already satisfied: requests in ./.conda/lib/python3.12/site-packages (2.32.3)\n",
      "Collecting Beautifulsoup4\n",
      "  Downloading beautifulsoup4-4.13.4-py3-none-any.whl.metadata (3.8 kB)\n",
      "Requirement already satisfied: charset-normalizer<4,>=2 in ./.conda/lib/python3.12/site-packages (from requests) (3.4.1)\n",
      "Requirement already satisfied: idna<4,>=2.5 in ./.conda/lib/python3.12/site-packages (from requests) (3.10)\n",
      "Requirement already satisfied: urllib3<3,>=1.21.1 in ./.conda/lib/python3.12/site-packages (from requests) (2.3.0)\n",
      "Requirement already satisfied: certifi>=2017.4.17 in ./.conda/lib/python3.12/site-packages (from requests) (2025.1.31)\n",
      "Collecting soupsieve>1.2 (from Beautifulsoup4)\n",
      "  Using cached soupsieve-2.6-py3-none-any.whl.metadata (4.6 kB)\n",
      "Requirement already satisfied: typing-extensions>=4.0.0 in ./.conda/lib/python3.12/site-packages (from Beautifulsoup4) (4.13.1)\n",
      "Downloading beautifulsoup4-4.13.4-py3-none-any.whl (187 kB)\n",
      "Using cached soupsieve-2.6-py3-none-any.whl (36 kB)\n",
      "Installing collected packages: soupsieve, Beautifulsoup4\n",
      "Successfully installed Beautifulsoup4-4.13.4 soupsieve-2.6\n",
      "Note: you may need to restart the kernel to use updated packages.\n"
     ]
    }
   ],
   "source": [
    "%pip install requests Beautifulsoup4"
   ]
  },
  {
   "cell_type": "code",
   "execution_count": 11,
   "id": "347af1e3",
   "metadata": {},
   "outputs": [
    {
     "name": "stdout",
     "output_type": "stream",
     "text": [
      "Content from https://anbezhil.wixsite.com/blog/post/%E0%AE%B8-%E0%AE%B0-%E0%AE%AE%E0%AE%A9-%E0%AE%A8-%E0%AE%B0-%E0%AE%AF%E0%AE%A3-%E0%AE%AF%E0%AE%AE-%E0%AE%A4%E0%AE%9A%E0%AE%95%E0%AE%AE-1-100-%E0%AE%B8-%E0%AE%B2-%E0%AE%95%E0%AE%99-%E0%AE%95%E0%AE%B3-%E0%AE%AE-%E0%AE%AA-%E0%AE%B0-%E0%AE%B3-%E0%AE%AE-%E0%AE%AA%E0%AE%95-%E0%AE%A4-1-%E0%AE%A4%E0%AE%9A%E0%AE%95%E0%AE%AE-1-9 written to narayaneeyam_1.txt\n",
      "Content from https://anbezhil.wixsite.com/blog/post/%E0%AE%B8-%E0%AE%B0-%E0%AE%AE%E0%AE%A9-%E0%AE%A8-%E0%AE%B0-%E0%AE%AF%E0%AE%A3-%E0%AE%AF%E0%AE%AE-%E0%AE%A4%E0%AE%9A%E0%AE%95%E0%AE%AE-1-100-%E0%AE%B8-%E0%AE%B2-%E0%AE%95%E0%AE%99-%E0%AE%95%E0%AE%B3-%E0%AE%AE-%E0%AE%AA-%E0%AE%B0-%E0%AE%B3-%E0%AE%AE-%E0%AE%AA%E0%AE%95-%E0%AE%A4-2-%E0%AE%A4%E0%AE%9A%E0%AE%95%E0%AE%AE-9-18 written to narayaneeyam_2.txt\n",
      "Content from https://anbezhil.wixsite.com/blog/post/%E0%AE%B8-%E0%AE%B0-%E0%AE%AE%E0%AE%A9-%E0%AE%A8-%E0%AE%B0-%E0%AE%AF%E0%AE%A3-%E0%AE%AF%E0%AE%AE-%E0%AE%A4%E0%AE%9A%E0%AE%95%E0%AE%AE-1-100-%E0%AE%B8-%E0%AE%B2-%E0%AE%95%E0%AE%99-%E0%AE%95%E0%AE%B3-%E0%AE%AE-%E0%AE%AA-%E0%AE%B0-%E0%AE%B3-%E0%AE%AE-%E0%AE%AA%E0%AE%95-%E0%AE%A4-3-%E0%AE%A4%E0%AE%9A%E0%AE%95%E0%AE%AE-21-30 written to narayaneeyam_3.txt\n",
      "Content from https://anbezhil.wixsite.com/blog/post/%E0%AE%B8-%E0%AE%B0-%E0%AE%AE%E0%AE%A9-%E0%AE%A8-%E0%AE%B0-%E0%AE%AF%E0%AE%A3-%E0%AE%AF%E0%AE%AE-%E0%AE%A4%E0%AE%9A%E0%AE%95%E0%AE%AE-1-100-%E0%AE%B8-%E0%AE%B2-%E0%AE%95%E0%AE%99-%E0%AE%95%E0%AE%B3-%E0%AE%AE-%E0%AE%AA-%E0%AE%B0-%E0%AE%B3-%E0%AE%AE-%E0%AE%AA%E0%AE%95-%E0%AE%A4-3-%E0%AE%A4%E0%AE%9A%E0%AE%95%E0%AE%AE-31-40 written to narayaneeyam_4.txt\n",
      "Content from https://anbezhil.wixsite.com/blog/post/%E0%AE%B8-%E0%AE%B0-%E0%AE%AE%E0%AE%A9-%E0%AE%A8-%E0%AE%B0-%E0%AE%AF%E0%AE%A3-%E0%AE%AF%E0%AE%AE-%E0%AE%A4%E0%AE%9A%E0%AE%95%E0%AE%AE-1-100-%E0%AE%B8-%E0%AE%B2-%E0%AE%95%E0%AE%99-%E0%AE%95%E0%AE%B3-%E0%AE%AE-%E0%AE%AA-%E0%AE%B0-%E0%AE%B3-%E0%AE%AE-%E0%AE%AA%E0%AE%95-%E0%AE%A4-4-%E0%AE%A4%E0%AE%9A%E0%AE%95%E0%AE%AE-41-50 written to narayaneeyam_5.txt\n",
      "Content from https://anbezhil.wixsite.com/blog/post/%E0%AE%B8-%E0%AE%B0-%E0%AE%AE%E0%AE%A9-%E0%AE%A8-%E0%AE%B0-%E0%AE%AF%E0%AE%A3-%E0%AE%AF%E0%AE%AE-%E0%AE%A4%E0%AE%9A%E0%AE%95%E0%AE%AE-1-100-%E0%AE%B8-%E0%AE%B2-%E0%AE%95%E0%AE%99-%E0%AE%95%E0%AE%B3-%E0%AE%AE-%E0%AE%AA-%E0%AE%B0-%E0%AE%B3-%E0%AE%AE-%E0%AE%AA%E0%AE%95-%E0%AE%A4-6-%E0%AE%A4%E0%AE%9A%E0%AE%95%E0%AE%AE-51-60 written to narayaneeyam_6.txt\n",
      "Content from https://anbezhil.wixsite.com/blog/post/%E0%AE%B8-%E0%AE%B0-%E0%AE%AE%E0%AE%A9-%E0%AE%A8-%E0%AE%B0-%E0%AE%AF%E0%AE%A3-%E0%AE%AF%E0%AE%AE-%E0%AE%A4%E0%AE%9A%E0%AE%95%E0%AE%AE-1-100-%E0%AE%B8-%E0%AE%B2-%E0%AE%95%E0%AE%99-%E0%AE%95%E0%AE%B3-%E0%AE%AE-%E0%AE%AA-%E0%AE%B0-%E0%AE%B3-%E0%AE%AE-%E0%AE%AA%E0%AE%95-%E0%AE%A4-7-%E0%AE%A4%E0%AE%9A%E0%AE%95%E0%AE%AE-61-70 written to narayaneeyam_7.txt\n",
      "Content from https://anbezhil.wixsite.com/blog/post/%E0%AE%B8-%E0%AE%B0-%E0%AE%AE%E0%AE%A9-%E0%AE%A8-%E0%AE%B0-%E0%AE%AF%E0%AE%A3-%E0%AE%AF%E0%AE%AE-%E0%AE%A4%E0%AE%9A%E0%AE%95%E0%AE%AE-1-100-%E0%AE%B8-%E0%AE%B2-%E0%AE%95%E0%AE%99-%E0%AE%95%E0%AE%B3-%E0%AE%AE-%E0%AE%AA-%E0%AE%B0-%E0%AE%B3-%E0%AE%AE-%E0%AE%AA%E0%AE%95-%E0%AE%A4-8-%E0%AE%A4%E0%AE%9A%E0%AE%95%E0%AE%AE-71-80 written to narayaneeyam_8.txt\n",
      "Content from https://anbezhil.wixsite.com/blog/post/%E0%AE%B8-%E0%AE%B0-%E0%AE%AE%E0%AE%A9-%E0%AE%A8-%E0%AE%B0-%E0%AE%AF%E0%AE%A3-%E0%AE%AF%E0%AE%AE-%E0%AE%A4%E0%AE%9A%E0%AE%95%E0%AE%AE-1-100-%E0%AE%B8-%E0%AE%B2-%E0%AE%95%E0%AE%99-%E0%AE%95%E0%AE%B3-%E0%AE%AE-%E0%AE%AA-%E0%AE%B0-%E0%AE%B3-%E0%AE%AE-%E0%AE%AA%E0%AE%95-%E0%AE%A4-9-%E0%AE%A4%E0%AE%9A%E0%AE%95%E0%AE%AE-81-89 written to narayaneeyam_9.txt\n",
      "Content from https://anbezhil.wixsite.com/blog/post/%E0%AE%B8-%E0%AE%B0-%E0%AE%AE%E0%AE%A9-%E0%AE%A8-%E0%AE%B0-%E0%AE%AF%E0%AE%A3-%E0%AE%AF%E0%AE%AE-%E0%AE%A4%E0%AE%9A%E0%AE%95%E0%AE%AE-1-100-%E0%AE%B8-%E0%AE%B2-%E0%AE%95%E0%AE%99-%E0%AE%95%E0%AE%B3-%E0%AE%AE-%E0%AE%AA-%E0%AE%B0-%E0%AE%B3-%E0%AE%AE-%E0%AE%AA%E0%AE%95-%E0%AE%A4-10-%E0%AE%A4%E0%AE%9A%E0%AE%95%E0%AE%AE-90-97 written to narayaneeyam_10.txt\n",
      "Content from https://anbezhil.wixsite.com/blog/post/%E0%AE%B8-%E0%AE%B0-%E0%AE%AE%E0%AE%A9-%E0%AE%A8-%E0%AE%B0-%E0%AE%AF%E0%AE%A3-%E0%AE%AF%E0%AE%AE-%E0%AE%A4%E0%AE%9A%E0%AE%95%E0%AE%AE-1-100-%E0%AE%B8-%E0%AE%B2-%E0%AE%95%E0%AE%99-%E0%AE%95%E0%AE%B3-%E0%AE%AE-%E0%AE%AA-%E0%AE%B0-%E0%AE%B3-%E0%AE%AE-%E0%AE%AA%E0%AE%95-%E0%AE%A4-11-%E0%AE%A4%E0%AE%9A%E0%AE%95%E0%AE%AE-98-100 written to narayaneeyam_11.txt\n"
     ]
    }
   ],
   "source": [
    "import os\n",
    "import requests\n",
    "from bs4 import BeautifulSoup\n",
    "\n",
    "# List of URLs to scrape\n",
    "urls = [\n",
    "    \"https://anbezhil.wixsite.com/blog/post/%E0%AE%B8-%E0%AE%B0-%E0%AE%AE%E0%AE%A9-%E0%AE%A8-%E0%AE%B0-%E0%AE%AF%E0%AE%A3-%E0%AE%AF%E0%AE%AE-%E0%AE%A4%E0%AE%9A%E0%AE%95%E0%AE%AE-1-100-%E0%AE%B8-%E0%AE%B2-%E0%AE%95%E0%AE%99-%E0%AE%95%E0%AE%B3-%E0%AE%AE-%E0%AE%AA-%E0%AE%B0-%E0%AE%B3-%E0%AE%AE-%E0%AE%AA%E0%AE%95-%E0%AE%A4-1-%E0%AE%A4%E0%AE%9A%E0%AE%95%E0%AE%AE-1-9\",\n",
    "    \"https://anbezhil.wixsite.com/blog/post/%E0%AE%B8-%E0%AE%B0-%E0%AE%AE%E0%AE%A9-%E0%AE%A8-%E0%AE%B0-%E0%AE%AF%E0%AE%A3-%E0%AE%AF%E0%AE%AE-%E0%AE%A4%E0%AE%9A%E0%AE%95%E0%AE%AE-1-100-%E0%AE%B8-%E0%AE%B2-%E0%AE%95%E0%AE%99-%E0%AE%95%E0%AE%B3-%E0%AE%AE-%E0%AE%AA-%E0%AE%B0-%E0%AE%B3-%E0%AE%AE-%E0%AE%AA%E0%AE%95-%E0%AE%A4-2-%E0%AE%A4%E0%AE%9A%E0%AE%95%E0%AE%AE-9-18\",\n",
    "    \"https://anbezhil.wixsite.com/blog/post/%E0%AE%B8-%E0%AE%B0-%E0%AE%AE%E0%AE%A9-%E0%AE%A8-%E0%AE%B0-%E0%AE%AF%E0%AE%A3-%E0%AE%AF%E0%AE%AE-%E0%AE%A4%E0%AE%9A%E0%AE%95%E0%AE%AE-1-100-%E0%AE%B8-%E0%AE%B2-%E0%AE%95%E0%AE%99-%E0%AE%95%E0%AE%B3-%E0%AE%AE-%E0%AE%AA-%E0%AE%B0-%E0%AE%B3-%E0%AE%AE-%E0%AE%AA%E0%AE%95-%E0%AE%A4-3-%E0%AE%A4%E0%AE%9A%E0%AE%95%E0%AE%AE-21-30\",\n",
    "    \"https://anbezhil.wixsite.com/blog/post/%E0%AE%B8-%E0%AE%B0-%E0%AE%AE%E0%AE%A9-%E0%AE%A8-%E0%AE%B0-%E0%AE%AF%E0%AE%A3-%E0%AE%AF%E0%AE%AE-%E0%AE%A4%E0%AE%9A%E0%AE%95%E0%AE%AE-1-100-%E0%AE%B8-%E0%AE%B2-%E0%AE%95%E0%AE%99-%E0%AE%95%E0%AE%B3-%E0%AE%AE-%E0%AE%AA-%E0%AE%B0-%E0%AE%B3-%E0%AE%AE-%E0%AE%AA%E0%AE%95-%E0%AE%A4-3-%E0%AE%A4%E0%AE%9A%E0%AE%95%E0%AE%AE-31-40\",\n",
    "    \"https://anbezhil.wixsite.com/blog/post/%E0%AE%B8-%E0%AE%B0-%E0%AE%AE%E0%AE%A9-%E0%AE%A8-%E0%AE%B0-%E0%AE%AF%E0%AE%A3-%E0%AE%AF%E0%AE%AE-%E0%AE%A4%E0%AE%9A%E0%AE%95%E0%AE%AE-1-100-%E0%AE%B8-%E0%AE%B2-%E0%AE%95%E0%AE%99-%E0%AE%95%E0%AE%B3-%E0%AE%AE-%E0%AE%AA-%E0%AE%B0-%E0%AE%B3-%E0%AE%AE-%E0%AE%AA%E0%AE%95-%E0%AE%A4-4-%E0%AE%A4%E0%AE%9A%E0%AE%95%E0%AE%AE-41-50\",\n",
    "    \"https://anbezhil.wixsite.com/blog/post/%E0%AE%B8-%E0%AE%B0-%E0%AE%AE%E0%AE%A9-%E0%AE%A8-%E0%AE%B0-%E0%AE%AF%E0%AE%A3-%E0%AE%AF%E0%AE%AE-%E0%AE%A4%E0%AE%9A%E0%AE%95%E0%AE%AE-1-100-%E0%AE%B8-%E0%AE%B2-%E0%AE%95%E0%AE%99-%E0%AE%95%E0%AE%B3-%E0%AE%AE-%E0%AE%AA-%E0%AE%B0-%E0%AE%B3-%E0%AE%AE-%E0%AE%AA%E0%AE%95-%E0%AE%A4-6-%E0%AE%A4%E0%AE%9A%E0%AE%95%E0%AE%AE-51-60\",\n",
    "    \"https://anbezhil.wixsite.com/blog/post/%E0%AE%B8-%E0%AE%B0-%E0%AE%AE%E0%AE%A9-%E0%AE%A8-%E0%AE%B0-%E0%AE%AF%E0%AE%A3-%E0%AE%AF%E0%AE%AE-%E0%AE%A4%E0%AE%9A%E0%AE%95%E0%AE%AE-1-100-%E0%AE%B8-%E0%AE%B2-%E0%AE%95%E0%AE%99-%E0%AE%95%E0%AE%B3-%E0%AE%AE-%E0%AE%AA-%E0%AE%B0-%E0%AE%B3-%E0%AE%AE-%E0%AE%AA%E0%AE%95-%E0%AE%A4-7-%E0%AE%A4%E0%AE%9A%E0%AE%95%E0%AE%AE-61-70\",\n",
    "    \"https://anbezhil.wixsite.com/blog/post/%E0%AE%B8-%E0%AE%B0-%E0%AE%AE%E0%AE%A9-%E0%AE%A8-%E0%AE%B0-%E0%AE%AF%E0%AE%A3-%E0%AE%AF%E0%AE%AE-%E0%AE%A4%E0%AE%9A%E0%AE%95%E0%AE%AE-1-100-%E0%AE%B8-%E0%AE%B2-%E0%AE%95%E0%AE%99-%E0%AE%95%E0%AE%B3-%E0%AE%AE-%E0%AE%AA-%E0%AE%B0-%E0%AE%B3-%E0%AE%AE-%E0%AE%AA%E0%AE%95-%E0%AE%A4-8-%E0%AE%A4%E0%AE%9A%E0%AE%95%E0%AE%AE-71-80\",\n",
    "    \"https://anbezhil.wixsite.com/blog/post/%E0%AE%B8-%E0%AE%B0-%E0%AE%AE%E0%AE%A9-%E0%AE%A8-%E0%AE%B0-%E0%AE%AF%E0%AE%A3-%E0%AE%AF%E0%AE%AE-%E0%AE%A4%E0%AE%9A%E0%AE%95%E0%AE%AE-1-100-%E0%AE%B8-%E0%AE%B2-%E0%AE%95%E0%AE%99-%E0%AE%95%E0%AE%B3-%E0%AE%AE-%E0%AE%AA-%E0%AE%B0-%E0%AE%B3-%E0%AE%AE-%E0%AE%AA%E0%AE%95-%E0%AE%A4-9-%E0%AE%A4%E0%AE%9A%E0%AE%95%E0%AE%AE-81-89\",\n",
    "    \"https://anbezhil.wixsite.com/blog/post/%E0%AE%B8-%E0%AE%B0-%E0%AE%AE%E0%AE%A9-%E0%AE%A8-%E0%AE%B0-%E0%AE%AF%E0%AE%A3-%E0%AE%AF%E0%AE%AE-%E0%AE%A4%E0%AE%9A%E0%AE%95%E0%AE%AE-1-100-%E0%AE%B8-%E0%AE%B2-%E0%AE%95%E0%AE%99-%E0%AE%95%E0%AE%B3-%E0%AE%AE-%E0%AE%AA-%E0%AE%B0-%E0%AE%B3-%E0%AE%AE-%E0%AE%AA%E0%AE%95-%E0%AE%A4-10-%E0%AE%A4%E0%AE%9A%E0%AE%95%E0%AE%AE-90-97\",\n",
    "    \"https://anbezhil.wixsite.com/blog/post/%E0%AE%B8-%E0%AE%B0-%E0%AE%AE%E0%AE%A9-%E0%AE%A8-%E0%AE%B0-%E0%AE%AF%E0%AE%A3-%E0%AE%AF%E0%AE%AE-%E0%AE%A4%E0%AE%9A%E0%AE%95%E0%AE%AE-1-100-%E0%AE%B8-%E0%AE%B2-%E0%AE%95%E0%AE%99-%E0%AE%95%E0%AE%B3-%E0%AE%AE-%E0%AE%AA-%E0%AE%B0-%E0%AE%B3-%E0%AE%AE-%E0%AE%AA%E0%AE%95-%E0%AE%A4-11-%E0%AE%A4%E0%AE%9A%E0%AE%95%E0%AE%AE-98-100\",\n",
    "]\n",
    "\n",
    "\n",
    "def get_page_content(url):\n",
    "\n",
    "    # Send a GET request to the URL\n",
    "    response = requests.get(url)\n",
    "\n",
    "    # Parse the HTML content using BeautifulSoup\n",
    "    soup = BeautifulSoup(response.content, \"html.parser\")\n",
    "\n",
    "    # Find the main tag inside the div with id \"content-wrapper\"\n",
    "    content_wrapper = soup.find(\"div\", id=\"content-wrapper\")\n",
    "\n",
    "    if content_wrapper is None:\n",
    "        raise ValueError(\n",
    "            \"Content wrapper not found. Please check the URL or the HTML structure.\")\n",
    "\n",
    "    # title\n",
    "    title = content_wrapper.find(\"h1\").get_text(strip=True)\n",
    "\n",
    "    # Find the main tag inside the content wrapper\n",
    "    main_content = content_wrapper.find(\"main\")\n",
    "\n",
    "    if main_content is None:\n",
    "        raise ValueError(\n",
    "            \"Main content not found. Please check the HTML structure.\")\n",
    "\n",
    "    # Find all the divs in the main content\n",
    "    divs = main_content.find_all(\"div\")\n",
    "    content = []\n",
    "    for div in divs:\n",
    "        # if the div has attr type=\"empty-line\" or type=\"paragraph\" then skip it\n",
    "        if div.get(\"type\") in [\"empty-line\", \"paragraph\"]:\n",
    "            continue\n",
    "        # if the div contains a <br role=\"presentation\">, then skip it\n",
    "        if div.find(\"br\", role=\"presentation\"):\n",
    "            continue\n",
    "\n",
    "        # Extract the text from the div\n",
    "        div_text = div.get_text(strip=True)\n",
    "\n",
    "        content.append(div_text)  \n",
    "\n",
    "    content = '\\n'.join(content)\n",
    "    \n",
    "    return title, content\n",
    "\n",
    "# Iterate through the URLs and extract the content and write to separate files\n",
    "dest_prefix = \"narayaneeyam\"\n",
    "dest_folder = f\"data/scrape/{dest_prefix}\"\n",
    "\n",
    "for i, url in enumerate(urls, start=1):\n",
    "    try:\n",
    "        title, content = get_page_content(url)\n",
    "        # Create a filename based on the title\n",
    "        filename = f\"{dest_prefix}_{i}.txt\"\n",
    "        file_path = os.path.join(dest_folder, filename)\n",
    "        # Write the content to a file\n",
    "        with open(file_path, \"w\", encoding=\"utf-8\") as file:\n",
    "            file.write(f\"Title: {title}\" + \"\\n\\n\")\n",
    "            file.write(f\"URL: {url}\" + \"\\n\\n\")\n",
    "            file.write(content + \"\\n\")\n",
    "        print(f\"Content from {url} written to {filename}\")\n",
    "    except Exception as e:\n",
    "        print(f\"Error processing {url}: {e}\")\n",
    "\n"
   ]
  }
 ],
 "metadata": {
  "kernelspec": {
   "display_name": "Python 3",
   "language": "python",
   "name": "python3"
  },
  "language_info": {
   "codemirror_mode": {
    "name": "ipython",
    "version": 3
   },
   "file_extension": ".py",
   "mimetype": "text/x-python",
   "name": "python",
   "nbconvert_exporter": "python",
   "pygments_lexer": "ipython3",
   "version": "3.12.9"
  }
 },
 "nbformat": 4,
 "nbformat_minor": 5
}
