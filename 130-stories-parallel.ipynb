{
 "cells": [
  {
   "cell_type": "code",
   "execution_count": 1,
   "metadata": {},
   "outputs": [
    {
     "name": "stdout",
     "output_type": "stream",
     "text": [
      "Requirement already satisfied: pandas in ./.venv/lib/python3.13/site-packages (2.2.3)\n",
      "Requirement already satisfied: numpy>=1.26.0 in ./.venv/lib/python3.13/site-packages (from pandas) (2.2.3)\n",
      "Requirement already satisfied: python-dateutil>=2.8.2 in ./.venv/lib/python3.13/site-packages (from pandas) (2.9.0.post0)\n",
      "Requirement already satisfied: pytz>=2020.1 in ./.venv/lib/python3.13/site-packages (from pandas) (2025.1)\n",
      "Requirement already satisfied: tzdata>=2022.7 in ./.venv/lib/python3.13/site-packages (from pandas) (2025.1)\n",
      "Requirement already satisfied: six>=1.5 in ./.venv/lib/python3.13/site-packages (from python-dateutil>=2.8.2->pandas) (1.17.0)\n",
      "Note: you may need to restart the kernel to use updated packages.\n"
     ]
    }
   ],
   "source": [
    "%pip install pandas"
   ]
  },
  {
   "cell_type": "code",
   "execution_count": 3,
   "metadata": {},
   "outputs": [],
   "source": [
    "import pandas as pd\n",
    "import os\n",
    "\n",
    "# Read the CSV file\n",
    "df = pd.read_csv('130-stories_parallel_final.csv')\n",
    "\n",
    "# Keep only 'text' and 'ta_gmt' columns\n",
    "df = df[['text', 'ta_gmt']]\n",
    "\n",
    "# Create the output directory if it doesn't exist\n",
    "output_dir = '130_stories_parallel'\n",
    "os.makedirs(output_dir, exist_ok=True)\n",
    "\n",
    "# Split the dataframe into chunks of 100 rows and write to separate TSV files\n",
    "for i in range(0, len(df), 100):\n",
    "    chunk = df.iloc[i:i+100]\n",
    "    from_row = str(i + 1).zfill(4)\n",
    "    to_row = str(i + len(chunk)).zfill(4)\n",
    "    output_file = os.path.join(output_dir, f'130_stories_parallel_{from_row}_{to_row}.tsv')\n",
    "    chunk.to_csv(output_file, sep='\\t', index=False, header=False)"
   ]
  }
 ],
 "metadata": {
  "kernelspec": {
   "display_name": ".venv",
   "language": "python",
   "name": "python3"
  },
  "language_info": {
   "codemirror_mode": {
    "name": "ipython",
    "version": 3
   },
   "file_extension": ".py",
   "mimetype": "text/x-python",
   "name": "python",
   "nbconvert_exporter": "python",
   "pygments_lexer": "ipython3",
   "version": "3.13.1"
  }
 },
 "nbformat": 4,
 "nbformat_minor": 2
}
